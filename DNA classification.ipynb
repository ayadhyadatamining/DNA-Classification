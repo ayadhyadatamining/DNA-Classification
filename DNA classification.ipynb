{
 "cells": [
  {
   "cell_type": "markdown",
   "metadata": {},
   "source": [
    "# AIM - \n",
    "The aim of the experiment is to study the DNA in human and chimpanzees and classify the seven different types of proteins that are common in both humans and chimpanzees using the protein sequence data."
   ]
  },
  {
   "cell_type": "markdown",
   "metadata": {},
   "source": [
    "### 7 labels\n",
    "\n",
    "'G protein coupled receptors',\n",
    "'Tyrosine Kinase',\n",
    "'Tyrosine phosphatase',\n",
    "'Synthetase',\n",
    "'Synthase',\n",
    "'Ion channel',\n",
    "'Transcription Factor'"
   ]
  },
  {
   "cell_type": "markdown",
   "metadata": {},
   "source": [
    "**G protein-coupled receptors (GPCRs)**\n",
    "\n",
    "G-protein-coupled receptors (GPCRs), also known as seven-(pass)-transmembrane domain receptors, 7TM receptors, heptahelical receptors, serpentine receptor, and G protein-linked receptors (GPLR), constitute a large protein family of receptors that detect molecules outside the cell and activate internal signal transduction pathways and, ultimately, cellular responses. Coupling with G proteins, they are called seven-transmembrane receptors because they pass through the cell membrane seven times.G protein-coupled receptors are found only in eukaryotes, including yeast, choanoflagellates and animals. The ligands that bind and activate these receptors include light-sensitive compounds, odors, pheromones, hormones, and neurotransmitters, and vary in size from small molecules to peptides to large proteins. G protein-coupled receptors are involved in many diseases.\n",
    "\n",
    "<div>\n",
    "<img src=\"https://slideplayer.com/slide/8322831/34/images/2/G-Protein-Coupled+Receptor+%28GPCR%29.jpg\" width=\"500\"/>\n",
    "</div>\n",
    "\n",
    "\n",
    "**Tyrosine Kinase**\n",
    "\n",
    "A tyrosine kinase is an enzyme that can transfer a phosphate group from ATP to a protein in a cell. It functions as an \"on\" or \"off\" switch in many cellular functions. Tyrosine kinases are a subclass of protein kinase.\n",
    "The phosphate group is attached to the amino acid tyrosine on the protein. Tyrosine kinases are a subgroup of the larger class of protein kinases that attach phosphate groups to other amino acids (serine and threonine). Phosphorylation of proteins by kinases is an important mechanism in communicating signals within a cell (signal transduction) and regulating cellular activity, such as cell division.Protein kinases can become mutated, stuck in the \"on\" position, and cause unregulated growth of the cell, which is a necessary step for the development of cancer. Therefore, kinase inhibitors, such as imatinib, are often effective cancer treatments.Most tyrosine kinases have an associated protein tyrosine phosphatase, which removes the phosphate group.\n",
    "\n",
    "**Structure** :\n",
    "<div>\n",
    "<img src=\"https://upload.wikimedia.org/wikipedia/commons/thumb/5/59/Hck_protein_tyrosine_kinase.png/624px-Hck_protein_tyrosine_kinase.png\" width=\"500\"/>\n",
    "</div>\n",
    "\n",
    "**Tyrosine Phosphatase**\n",
    "\n",
    "Protein tyrosine phosphatases are a group of enzymes that remove phosphate groups from phosphorylated tyrosine residues on proteins. Protein tyrosine (pTyr) phosphorylation is a common post-translational modification that can create novel recognition motifs for protein interactions and cellular localization, affect protein stability, and regulate enzyme activity. As a consequence, maintaining an appropriate level of protein tyrosine phosphorylation is essential for many cellular functions. Tyrosine-specific protein phosphatases (PTPase; EC 3.1.3.48) catalyse the removal of a phosphate group attached to a tyrosine residue, using a cysteinyl-phosphate enzyme intermediate. These enzymes are key regulatory components in signal transduction pathways (such as the MAP kinase pathway) and cell cycle control, and are important in the control of cell growth, proliferation, differentiation, transformation, and synaptic plasticity.\n",
    "\n",
    "**Structure** :\n",
    "<div>\n",
    "<img src=\"https://upload.wikimedia.org/wikipedia/commons/thumb/a/ad/1xm2.jpg/800px-1xm2.jpg\" width=\"500\"/>\n",
    "</div>\n",
    "\n",
    "\n",
    "**Synthetase**\n",
    "In biochemistry, a ligase is an enzyme that can catalyze the joining of two large molecules by forming a new chemical bond, usually with accompanying hydrolysis of a small pendant chemical group on one of the larger molecules or the enzyme catalyzing the linking together of two compounds, e.g., enzymes that catalyze joining of C-O, C-S, C-N, etc. In general, a ligase catalyzes the following reaction:\n",
    "\n",
    "Ab + C → A–C + b\n",
    "\n",
    "or sometimes\n",
    "\n",
    "Ab + cD → A–D + b + c + d + e + f\n",
    "\n",
    "where the lowercase letters signify the small, dependent groups. Ligase can join two complementary fragments of nucleic acid and repair single stranded breaks that arise in double stranded DNA during replication.\n",
    "\n",
    "**Synthase**\n",
    "a synthase is an enzyme that catalyses a synthesis process. Following the EC number classification, they belong to the group of lyases.originally, biochemical nomenclature distinguished synthetases and synthases. Under the original definition, synthases do not use energy from nucleoside triphosphates (such as ATP, GTP, CTP, TTP, and UTP), whereas synthetases do use nucleoside triphosphates. However, the Joint Commission on Biochemical Nomenclature (JCBN) dictates that 'synthase' can be used with any enzyme that catalyzes synthesis (whether or not it uses nucleoside triphosphates), whereas 'synthetase' is to be used synonymously with 'ligase'.\n",
    "\n",
    "![](https://qph.fs.quoracdn.net/main-qimg-e1b4c0c775fba44f50b61f0eca305b25.webp)\n",
    "\n",
    "**Example of difference between synthase and synthetase enzymes :**\n",
    "![](https://lh4.googleusercontent.com/proxy/4bcxxQ2UaVYwn0A2XFMU45RB0AbgtObk_ogCynxCbKJiwbkGYf9utzfr7w2xaBoH3etZahZ5gPm0o1whSbn30k3ZtWU66IuAaofCBatQ2vA7cndHj59fP-PsXWPWDhzzsA320jc)\n",
    "\n",
    "**Ion Channels**\n",
    "\n",
    "Ion channels are pore-forming membrane proteins that allow ions to pass through the channel pore. Their functions include establishing a resting membrane potential, shaping action potentials and other electrical signals by gating the flow of ions across the cell membrane, controlling the flow of ions across secretory and epithelial cells, and regulating cell volume. Ion channels are present in the membranes of all excitable cells.Ion channels are one of the two classes of ionophoric proteins, the other being ion transporters.\n",
    "The study of ion channels often involves biophysics, electrophysiology, and pharmacology, while using techniques including voltage clamp, patch clamp, immunohistochemistry, X-ray crystallography, fluoroscopy, and RT-PCR. Their classification as molecules is referred to as channelomics.\n",
    "\n",
    "**Structure :**\n",
    "<div>\n",
    "<img src=\"https://www.news-medical.net/image.axd?picture=2018%2F10%2Fshutterstock_479593594.jpg\" width=\"500\"/>\n",
    "</div>\n",
    "\n",
    "\n",
    "**Transcription Factors**\n",
    "\n",
    "Transcription factor (TF) (or sequence-specific DNA-binding factor) is a protein that controls the rate of transcription of genetic information from DNA to messenger RNA, by binding to a specific DNA sequence.The function of TFs is to regulate—turn on and off—genes in order to make sure that they are expressed in the right cell at the right time and in the right amount throughout the life of the cell and the organism. Groups of TFs function in a coordinated fashion to direct cell division, cell growth, and cell death throughout life; cell migration and organization (body plan) during embryonic development; and intermittently in response to signals from outside the cell, such as a hormone. There are up to 1600 TFs in the human genome.TFs work alone or with other proteins in a complex, by promoting (as an activator), or blocking (as a repressor) the recruitment of RNA polymerase (the enzyme that performs the transcription of genetic information from DNA to RNA) to specific genes.\n",
    "A defining feature of TFs is that they contain at least one DNA-binding domain (DBD), which attaches to a specific sequence of DNA adjacent to the genes that they regulate.TFs are grouped into classes based on their DBDs.Other proteins such as coactivators, chromatin remodelers, histone acetyltransferases, histone deacetylases, kinases, and methylases are also essential to gene regulation, but lack DNA-binding domains, and therefore are not TFs.\n",
    "\n",
    "**Structure :**\n",
    "<div>\n",
    "<img src=\"https://upload.wikimedia.org/wikipedia/commons/8/80/Transcription_Factors.svg\" width=\"800\"/>\n",
    "</div>\n"
   ]
  },
  {
   "cell_type": "markdown",
   "metadata": {},
   "source": []
  },
  {
   "cell_type": "markdown",
   "metadata": {},
   "source": [
    "# 1. Importing Libraries"
   ]
  },
  {
   "cell_type": "code",
   "execution_count": 1,
   "metadata": {},
   "outputs": [],
   "source": [
    "import numpy as np\n",
    "import pandas as pd\n",
    "import matplotlib.pyplot as plt\n",
    "from IPython.display import Image\n",
    "%matplotlib inline\n",
    "import seaborn as sns\n",
    "from matplotlib import cm "
   ]
  },
  {
   "cell_type": "code",
   "execution_count": 2,
   "metadata": {},
   "outputs": [],
   "source": [
    "import warnings\n",
    "warnings.filterwarnings('ignore')"
   ]
  },
  {
   "cell_type": "code",
   "execution_count": 3,
   "metadata": {},
   "outputs": [],
   "source": [
    "from sklearn.feature_extraction.text import CountVectorizer\n",
    "from sklearn.model_selection import train_test_split\n",
    "from sklearn.naive_bayes import MultinomialNB\n",
    "from sklearn.tree import DecisionTreeClassifier\n",
    "from sklearn.metrics import accuracy_score,f1_score,recall_score,precision_score,confusion_matrix,classification_report,roc_curve,roc_auc_score"
   ]
  },
  {
   "cell_type": "markdown",
   "metadata": {},
   "source": [
    "# 2. Exploratory Data Analysis"
   ]
  },
  {
   "cell_type": "code",
   "execution_count": 4,
   "metadata": {},
   "outputs": [],
   "source": [
    "labels = ['G protein coupled receptors','Tyrosine Kinase','Tyrosine phosphatase','Synthetase','Synthase','Ion channel','Transcription Factor']"
   ]
  },
  {
   "cell_type": "code",
   "execution_count": 5,
   "metadata": {},
   "outputs": [
    {
     "data": {
      "text/html": [
       "<div>\n",
       "<style scoped>\n",
       "    .dataframe tbody tr th:only-of-type {\n",
       "        vertical-align: middle;\n",
       "    }\n",
       "\n",
       "    .dataframe tbody tr th {\n",
       "        vertical-align: top;\n",
       "    }\n",
       "\n",
       "    .dataframe thead th {\n",
       "        text-align: right;\n",
       "    }\n",
       "</style>\n",
       "<table border=\"1\" class=\"dataframe\">\n",
       "  <thead>\n",
       "    <tr style=\"text-align: right;\">\n",
       "      <th></th>\n",
       "      <th>sequence</th>\n",
       "      <th>class</th>\n",
       "    </tr>\n",
       "  </thead>\n",
       "  <tbody>\n",
       "    <tr>\n",
       "      <th>0</th>\n",
       "      <td>ATGCCCCAACTAAATACTACCGTATGGCCCACCATAATTACCCCCA...</td>\n",
       "      <td>4</td>\n",
       "    </tr>\n",
       "    <tr>\n",
       "      <th>1</th>\n",
       "      <td>ATGAACGAAAATCTGTTCGCTTCATTCATTGCCCCCACAATCCTAG...</td>\n",
       "      <td>4</td>\n",
       "    </tr>\n",
       "    <tr>\n",
       "      <th>2</th>\n",
       "      <td>ATGTGTGGCATTTGGGCGCTGTTTGGCAGTGATGATTGCCTTTCTG...</td>\n",
       "      <td>3</td>\n",
       "    </tr>\n",
       "    <tr>\n",
       "      <th>3</th>\n",
       "      <td>ATGTGTGGCATTTGGGCGCTGTTTGGCAGTGATGATTGCCTTTCTG...</td>\n",
       "      <td>3</td>\n",
       "    </tr>\n",
       "    <tr>\n",
       "      <th>4</th>\n",
       "      <td>ATGCAACAGCATTTTGAATTTGAATACCAGACCAAAGTGGATGGTG...</td>\n",
       "      <td>3</td>\n",
       "    </tr>\n",
       "  </tbody>\n",
       "</table>\n",
       "</div>"
      ],
      "text/plain": [
       "                                            sequence  class\n",
       "0  ATGCCCCAACTAAATACTACCGTATGGCCCACCATAATTACCCCCA...      4\n",
       "1  ATGAACGAAAATCTGTTCGCTTCATTCATTGCCCCCACAATCCTAG...      4\n",
       "2  ATGTGTGGCATTTGGGCGCTGTTTGGCAGTGATGATTGCCTTTCTG...      3\n",
       "3  ATGTGTGGCATTTGGGCGCTGTTTGGCAGTGATGATTGCCTTTCTG...      3\n",
       "4  ATGCAACAGCATTTTGAATTTGAATACCAGACCAAAGTGGATGGTG...      3"
      ]
     },
     "execution_count": 5,
     "metadata": {},
     "output_type": "execute_result"
    }
   ],
   "source": [
    "human_data = pd.read_table('human_data.txt')\n",
    "human_data.head()"
   ]
  },
  {
   "cell_type": "code",
   "execution_count": 6,
   "metadata": {},
   "outputs": [
    {
     "name": "stdout",
     "output_type": "stream",
     "text": [
      "<class 'pandas.core.frame.DataFrame'>\n",
      "RangeIndex: 4380 entries, 0 to 4379\n",
      "Data columns (total 2 columns):\n",
      "sequence    4380 non-null object\n",
      "class       4380 non-null int64\n",
      "dtypes: int64(1), object(1)\n",
      "memory usage: 68.5+ KB\n"
     ]
    }
   ],
   "source": [
    "human_data.info()"
   ]
  },
  {
   "cell_type": "code",
   "execution_count": 7,
   "metadata": {},
   "outputs": [
    {
     "data": {
      "text/html": [
       "<div>\n",
       "<style scoped>\n",
       "    .dataframe tbody tr th:only-of-type {\n",
       "        vertical-align: middle;\n",
       "    }\n",
       "\n",
       "    .dataframe tbody tr th {\n",
       "        vertical-align: top;\n",
       "    }\n",
       "\n",
       "    .dataframe thead th {\n",
       "        text-align: right;\n",
       "    }\n",
       "</style>\n",
       "<table border=\"1\" class=\"dataframe\">\n",
       "  <thead>\n",
       "    <tr style=\"text-align: right;\">\n",
       "      <th></th>\n",
       "      <th>class</th>\n",
       "    </tr>\n",
       "  </thead>\n",
       "  <tbody>\n",
       "    <tr>\n",
       "      <th>count</th>\n",
       "      <td>4380.000000</td>\n",
       "    </tr>\n",
       "    <tr>\n",
       "      <th>mean</th>\n",
       "      <td>3.504566</td>\n",
       "    </tr>\n",
       "    <tr>\n",
       "      <th>std</th>\n",
       "      <td>2.132134</td>\n",
       "    </tr>\n",
       "    <tr>\n",
       "      <th>min</th>\n",
       "      <td>0.000000</td>\n",
       "    </tr>\n",
       "    <tr>\n",
       "      <th>25%</th>\n",
       "      <td>2.000000</td>\n",
       "    </tr>\n",
       "    <tr>\n",
       "      <th>50%</th>\n",
       "      <td>4.000000</td>\n",
       "    </tr>\n",
       "    <tr>\n",
       "      <th>75%</th>\n",
       "      <td>6.000000</td>\n",
       "    </tr>\n",
       "    <tr>\n",
       "      <th>max</th>\n",
       "      <td>6.000000</td>\n",
       "    </tr>\n",
       "  </tbody>\n",
       "</table>\n",
       "</div>"
      ],
      "text/plain": [
       "             class\n",
       "count  4380.000000\n",
       "mean      3.504566\n",
       "std       2.132134\n",
       "min       0.000000\n",
       "25%       2.000000\n",
       "50%       4.000000\n",
       "75%       6.000000\n",
       "max       6.000000"
      ]
     },
     "execution_count": 7,
     "metadata": {},
     "output_type": "execute_result"
    }
   ],
   "source": [
    "\n",
    "human_data.describe()"
   ]
  },
  {
   "cell_type": "code",
   "execution_count": 8,
   "metadata": {},
   "outputs": [
    {
     "data": {
      "image/png": "[encoded data removed]",
      "text/plain": [
       "<Figure size 432x288 with 1 Axes>"
      ]
     },
     "metadata": {
      "needs_background": "light"
     },
     "output_type": "display_data"
    }
   ],
   "source": [
    "sns.barplot(x=human_data[\"class\"].value_counts().sort_index(),y=labels) #plotting the barplot using seaborn \n",
    "plt.title(\"Class frequency for human data\")\n",
    "plt.xlabel('Frequency')\n",
    "plt.ylabel('Protein class')\n",
    "plt.show()"
   ]
  },
  {
   "cell_type": "code",
   "execution_count": 9,
   "metadata": {},
   "outputs": [
    {
     "data": {
      "image/png": "[encoded data removed]",
      "text/plain": [
       "<Figure size 432x432 with 1 Axes>"
      ]
     },
     "metadata": {},
     "output_type": "display_data"
    }
   ],
   "source": [
    "plt.figure(figsize=(6,6))\n",
    "font_dict=font = {'family': 'serif', \n",
    "        'color':  'Black',\n",
    "        'weight': 'normal',\n",
    "        'size': 20,\n",
    "        }\n",
    "a=np.random.random(7)\n",
    "cs=cm.Set1(np.arange(7)/7.)\n",
    "plt.pie(human_data[\"class\"].value_counts().sort_index(),labels=labels,autopct='%1.1f%%',colors=cs,startangle=90) \n",
    "plt.axis('equal')\n",
    "plt.title(\"Human data Protein class\",fontdict=font_dict) \n",
    "plt.show() #displaying the plot"
   ]
  },
  {
   "cell_type": "code",
   "execution_count": 10,
   "metadata": {},
   "outputs": [
    {
     "data": {
      "text/html": [
       "<div>\n",
       "<style scoped>\n",
       "    .dataframe tbody tr th:only-of-type {\n",
       "        vertical-align: middle;\n",
       "    }\n",
       "\n",
       "    .dataframe tbody tr th {\n",
       "        vertical-align: top;\n",
       "    }\n",
       "\n",
       "    .dataframe thead th {\n",
       "        text-align: right;\n",
       "    }\n",
       "</style>\n",
       "<table border=\"1\" class=\"dataframe\">\n",
       "  <thead>\n",
       "    <tr style=\"text-align: right;\">\n",
       "      <th></th>\n",
       "      <th>sequence</th>\n",
       "      <th>class</th>\n",
       "    </tr>\n",
       "  </thead>\n",
       "  <tbody>\n",
       "    <tr>\n",
       "      <th>0</th>\n",
       "      <td>ATGCCCCAACTAAATACCGCCGTATGACCCACCATAATTACCCCCA...</td>\n",
       "      <td>4</td>\n",
       "    </tr>\n",
       "    <tr>\n",
       "      <th>1</th>\n",
       "      <td>ATGAACGAAAATCTATTCGCTTCATTCGCTGCCCCCACAATCCTAG...</td>\n",
       "      <td>4</td>\n",
       "    </tr>\n",
       "    <tr>\n",
       "      <th>2</th>\n",
       "      <td>ATGGCCTCGCGCTGGTGGCGGTGGCGACGCGGCTGCTCCTGGAGGC...</td>\n",
       "      <td>4</td>\n",
       "    </tr>\n",
       "    <tr>\n",
       "      <th>3</th>\n",
       "      <td>ATGGCCTCGCGCTGGTGGCGGTGGCGACGCGGCTGCTCCTGGAGGC...</td>\n",
       "      <td>4</td>\n",
       "    </tr>\n",
       "    <tr>\n",
       "      <th>4</th>\n",
       "      <td>ATGGGCAGCGCCAGCCCGGGTCTGAGCAGCGTGTCCCCCAGCCACC...</td>\n",
       "      <td>6</td>\n",
       "    </tr>\n",
       "  </tbody>\n",
       "</table>\n",
       "</div>"
      ],
      "text/plain": [
       "                                            sequence  class\n",
       "0  ATGCCCCAACTAAATACCGCCGTATGACCCACCATAATTACCCCCA...      4\n",
       "1  ATGAACGAAAATCTATTCGCTTCATTCGCTGCCCCCACAATCCTAG...      4\n",
       "2  ATGGCCTCGCGCTGGTGGCGGTGGCGACGCGGCTGCTCCTGGAGGC...      4\n",
       "3  ATGGCCTCGCGCTGGTGGCGGTGGCGACGCGGCTGCTCCTGGAGGC...      4\n",
       "4  ATGGGCAGCGCCAGCCCGGGTCTGAGCAGCGTGTCCCCCAGCCACC...      6"
      ]
     },
     "execution_count": 10,
     "metadata": {},
     "output_type": "execute_result"
    }
   ],
   "source": [
    "chimp_data = pd.read_table('chimp_data.txt') \n",
    "chimp_data.head() "
   ]
  },
  {
   "cell_type": "code",
   "execution_count": 11,
   "metadata": {},
   "outputs": [
    {
     "data": {
      "text/html": [
       "<div>\n",
       "<style scoped>\n",
       "    .dataframe tbody tr th:only-of-type {\n",
       "        vertical-align: middle;\n",
       "    }\n",
       "\n",
       "    .dataframe tbody tr th {\n",
       "        vertical-align: top;\n",
       "    }\n",
       "\n",
       "    .dataframe thead th {\n",
       "        text-align: right;\n",
       "    }\n",
       "</style>\n",
       "<table border=\"1\" class=\"dataframe\">\n",
       "  <thead>\n",
       "    <tr style=\"text-align: right;\">\n",
       "      <th></th>\n",
       "      <th>class</th>\n",
       "    </tr>\n",
       "  </thead>\n",
       "  <tbody>\n",
       "    <tr>\n",
       "      <th>count</th>\n",
       "      <td>1682.000000</td>\n",
       "    </tr>\n",
       "    <tr>\n",
       "      <th>mean</th>\n",
       "      <td>3.491082</td>\n",
       "    </tr>\n",
       "    <tr>\n",
       "      <th>std</th>\n",
       "      <td>2.177486</td>\n",
       "    </tr>\n",
       "    <tr>\n",
       "      <th>min</th>\n",
       "      <td>0.000000</td>\n",
       "    </tr>\n",
       "    <tr>\n",
       "      <th>25%</th>\n",
       "      <td>2.000000</td>\n",
       "    </tr>\n",
       "    <tr>\n",
       "      <th>50%</th>\n",
       "      <td>4.000000</td>\n",
       "    </tr>\n",
       "    <tr>\n",
       "      <th>75%</th>\n",
       "      <td>6.000000</td>\n",
       "    </tr>\n",
       "    <tr>\n",
       "      <th>max</th>\n",
       "      <td>6.000000</td>\n",
       "    </tr>\n",
       "  </tbody>\n",
       "</table>\n",
       "</div>"
      ],
      "text/plain": [
       "             class\n",
       "count  1682.000000\n",
       "mean      3.491082\n",
       "std       2.177486\n",
       "min       0.000000\n",
       "25%       2.000000\n",
       "50%       4.000000\n",
       "75%       6.000000\n",
       "max       6.000000"
      ]
     },
     "execution_count": 11,
     "metadata": {},
     "output_type": "execute_result"
    }
   ],
   "source": [
    "chimp_data.describe() "
   ]
  },
  {
   "cell_type": "code",
   "execution_count": 12,
   "metadata": {},
   "outputs": [
    {
     "data": {
      "image/png": "[encoded data removed]",
      "text/plain": [
       "<Figure size 432x288 with 1 Axes>"
      ]
     },
     "metadata": {
      "needs_background": "light"
     },
     "output_type": "display_data"
    }
   ],
   "source": [
    "sns.barplot(x=chimp_data[\"class\"].value_counts().sort_index(),y=labels) #plotting the barplot using seaborn\n",
    "plt.title(\"Class frequency for Chimp data\")\n",
    "plt.xlabel('Frequency')\n",
    "plt.ylabel('Protein class')\n",
    "plt.show()"
   ]
  },
  {
   "cell_type": "code",
   "execution_count": 13,
   "metadata": {},
   "outputs": [
    {
     "data": {
      "image/png": "[encoded data removed]",
      "text/plain": [
       "<Figure size 432x432 with 1 Axes>"
      ]
     },
     "metadata": {},
     "output_type": "display_data"
    }
   ],
   "source": [
    "plt.figure(figsize=(6,6)) \n",
    "font_dict=font = {'family': 'serif',\n",
    "        'color':  'Black',\n",
    "        'weight': 'normal',\n",
    "        'size': 20,\n",
    "        }\n",
    "a=np.random.random(7) \n",
    "cs=cm.Set1(np.arange(7)/7.) \n",
    "plt.pie(chimp_data[\"class\"].value_counts().sort_index(),labels=labels,autopct='%1.1f%%',colors=cs,startangle=90)\n",
    "plt.axis('equal') \n",
    "plt.title(\"Chimp data Protein class\",fontdict=font_dict) \n",
    "plt.show() "
   ]
  },
  {
   "cell_type": "markdown",
   "metadata": {},
   "source": [
    "# 3. Model Development \n",
    "\n"
   ]
  },
  {
   "cell_type": "markdown",
   "metadata": {},
   "source": [
    "# (a)- Human Data "
   ]
  },
  {
   "cell_type": "code",
   "execution_count": 14,
   "metadata": {},
   "outputs": [],
   "source": [
    "#k-mers are subsequences of length k {\\displaystyle k} k contained within a biological sequence. Primarily used \n",
    "# within the context of computational genomics and sequence analysis, in which k-mers are composed of nucleotides \n",
    "# (i.e. A, T, G, and C), k-mers are capitalized upon to assemble DNA sequences,[1] improve heterologous gene \n",
    "# expression,[2][3] identify species in metagenomic samples,[4] and create attenuated vaccines.[5] Usually, the \n",
    "# term k-mer refers to all of a sequence's subsequences of length k {\\displaystyle k} k, such that the sequence \n",
    "# AGAT would have four monomers (A, G, A, and T), three 2-mers (AG, GA, AT), two 3-mers (AGA and GAT) and one 4-mer \n",
    "# (AGAT).\n",
    "\n",
    "# function to convert sequence strings into k-mer words, default size = 6 (hexamer words)\n",
    "def getKmers(sequence, size=6):\n",
    "    return [sequence[x:x+size].lower() for x in range(len(sequence) - size + 1)]\n",
    "\n",
    "\n",
    "cv = CountVectorizer(ngram_range=(4,4))\n"
   ]
  },
  {
   "cell_type": "code",
   "execution_count": 15,
   "metadata": {},
   "outputs": [],
   "source": [
    "\n",
    "human_data['words'] = human_data.apply(lambda x: getKmers(x['sequence']), axis=1)\n",
    "human_data = human_data.drop('sequence', axis=1) "
   ]
  },
  {
   "cell_type": "code",
   "execution_count": 16,
   "metadata": {},
   "outputs": [],
   "source": [
    "human_texts = list(human_data[\"words\"]) \n",
    "for item in range (len(human_data)):\n",
    "    human_texts[item]=\" \".join(human_texts[item])"
   ]
  },
  {
   "cell_type": "code",
   "execution_count": 17,
   "metadata": {},
   "outputs": [],
   "source": [
    "X_human = cv.fit_transform(human_texts) \n",
    "y_human = human_data.iloc[:, 0].values  "
   ]
  },
  {
   "cell_type": "code",
   "execution_count": 18,
   "metadata": {},
   "outputs": [
    {
     "name": "stdout",
     "output_type": "stream",
     "text": [
      "(4380, 232414) (4380,)\n"
     ]
    }
   ],
   "source": [
    "print(X_human.shape,y_human.shape) "
   ]
  },
  {
   "cell_type": "code",
   "execution_count": 19,
   "metadata": {},
   "outputs": [
    {
     "data": {
      "text/plain": [
       "'atgaac tgaacg gaacga aacgaa acgaaa cgaaaa gaaaat aaaatc aaatct aatctg atctgt tctgtt ctgttc tgttcg gttcgc ttcgct tcgctt cgcttc gcttca cttcat ttcatt tcattc cattca attcat ttcatt tcattg cattgc attgcc ttgccc tgcccc gccccc ccccca ccccac cccaca ccacaa cacaat acaatc caatcc aatcct atccta tcctag cctagg ctaggc taggcc aggcct ggccta gcctac cctacc ctaccc tacccg acccgc cccgcc ccgccg cgccgc gccgca ccgcag cgcagt gcagta cagtac agtact gtactg tactga actgat ctgatc tgatca gatcat atcatt tcattc cattct attcta ttctat tctatt ctattt tatttc atttcc tttccc ttcccc tccccc ccccct cccctc ccctct cctcta ctctat tctatt ctattg tattga attgat ttgatc tgatcc gatccc atcccc tcccca ccccac cccacc ccacct cacctc acctcc cctcca ctccaa tccaaa ccaaat caaata aaatat aatatc atatct tatctc atctca tctcat ctcatc tcatca catcaa atcaac tcaaca caacaa aacaac acaacc caaccg aaccga accgac ccgact cgacta gactaa actaat ctaatc taatca aatcac atcacc tcacca caccac accacc ccaccc caccca acccaa cccaac ccaaca caacaa aacaat acaatg caatga aatgac atgact tgacta gactaa actaat ctaatc taatca aatcaa atcaaa tcaaac caaact aaacta aactaa actaac ctaacc taacct aacctc acctca cctcaa ctcaaa tcaaaa caaaac aaaaca aaacaa aacaaa acaaat caaatg aaatga aatgat atgata tgataa gataac ataacc taacca aaccat accata ccatac cataca atacac tacaca acacaa cacaac acaaca caacac aacact acacta cactaa actaaa ctaaag taaagg aaagga aaggac aggacg ggacga gacgaa acgaac cgaacc gaacct aacctg acctga cctgat ctgatc tgatct gatctc atctct tctctt ctctta tcttat cttata ttatac tatact atacta tactag actagt ctagta tagtat agtatc gtatcc tatcct atcctt tcctta ccttaa cttaat ttaatc taatca aatcat atcatt tcattt catttt attttt ttttta ttttat tttatt ttattg tattgc attgcc ttgcca tgccac gccaca ccacaa cacaac acaact caacta aactaa actaac ctaacc taacct aacctc acctcc cctcct ctcctc tcctcg cctcgg ctcgga tcggac cggact ggactc gactcc actcct ctcctg tcctgc cctgcc ctgcct tgcctc gcctca cctcac ctcact tcactc cactca actcat ctcatt tcattt cattta atttac tttaca ttacac tacacc acacca caccaa accaac ccaacc caacca aaccac accacc ccaccc caccca acccaa cccaac ccaact caacta aactat actatc ctatct tatcta atctat tctata ctataa tataaa ataaac taaacc aaacct aaccta acctag cctagc ctagcc tagcca agccat gccatg ccatgg catggc atggcc tggcca ggccat gccatc ccatcc catccc atcccc tcccct cccctt ccctta ccttat cttatg ttatga tatgag atgagc tgagcg gagcgg agcggg gcgggc cgggca gggcac ggcaca gcacag cacagt acagtg cagtga agtgat gtgatt tgatta gattat attata ttatag tatagg ataggc taggct aggctt ggcttt gctttc ctttcg tttcgc ttcgct tcgctc cgctct gctcta ctctaa tctaag ctaaga taagat aagatt agatta gattaa attaaa ttaaaa taaaaa aaaaat aaaatg aaatgc aatgcc atgccc tgccct gcccta ccctag cctagc ctagcc tagccc agccca gcccac cccact ccactt cacttc acttct cttctt ttctta tcttac cttacc ttacca taccac accaca ccacaa cacaag acaagg caaggc aaggca aggcac ggcaca gcacac cacacc acacct caccta acctac cctaca ctacac tacacc acaccc cacccc acccct cccctt ccctta ccttat cttatc ttatcc tatccc atcccc tcccca ccccat cccata ccatac catact atacta tactag actagt ctagtt tagtta agttat gttatt ttatta tattat attatc ttatcg tatcga atcgaa tcgaaa cgaaac gaaacc aaacca aaccat accatc ccatca catcag atcagc tcagcc cagcct agccta gcctac cctact ctactc tactca actcat ctcatt tcattc cattca attcaa ttcaac tcaacc caacca aaccaa accaat ccaata caatag aatagc atagcc tagccc agccct gccctg ccctgg cctggc ctggcc tggccg ggccgt gccgta ccgtac cgtacg gtacgc tacgcc acgcct cgccta gcctaa cctaac ctaacc taaccg aaccgc accgct ccgcta cgctaa gctaac ctaaca taacat aacatt acatta cattac attact ttactg tactgc actgca ctgcag tgcagg gcaggc caggcc aggcca ggccac gccacc ccacct caccta acctac cctact ctactc tactca actcat ctcatg tcatgc catgca atgcac tgcacc gcacct caccta acctaa cctaat ctaatt taattg aattgg attgga ttggaa tggaag ggaagc gaagcg aagcgc agcgcc gcgcca cgccac gccacc ccaccc caccct acccta ccctag cctagc ctagca tagcaa agcaat gcaata caatat aatatc atatca tatcaa atcaac tcaacc caacca aaccat accatt ccatta cattaa attaac ttaacc taacct aacctt accttc ccttcc cttccc ttccct tccctc ccctct cctcta ctctac tctaca ctacac tacact acactt cactta acttat cttatc ttatca tatcat atcatc tcatct catctt atcttc tcttca cttcac ttcaca tcacaa cacaat acaatt caattc aattct attcta ttctaa tctaat ctaatt taattc aattct attcta ttctac tctact ctactg tactga actgac ctgact tgacta gactat actatc ctatcc tatcct atccta tcctag cctaga ctagaa tagaaa agaaat gaaatc aaatcg aatcgc atcgct tcgctg cgctgt gctgtc ctgtcg tgtcgc gtcgcc tcgcct cgcctt gcctta ccttaa cttaat ttaatc taatcc aatcca atccaa tccaag ccaagc caagcc aagcct agccta gcctac cctacg ctacgt tacgtt acgttt cgtttt gttttc ttttca tttcac ttcaca tcacac cacact acactt cacttc acttct cttcta ttctag tctagt ctagta tagtaa agtaag gtaagc taagcc aagcct agcctc gcctct cctcta ctctac tctacc ctacct tacctg acctgc cctgca ctgcac tgcacg gcacga cacgac acgaca cgacaa gacaac acaaca caacac aacaca acacat cacata acataa'"
      ]
     },
     "execution_count": 19,
     "metadata": {},
     "output_type": "execute_result"
    }
   ],
   "source": [
    "(human_texts[1])"
   ]
  },
  {
   "cell_type": "code",
   "execution_count": null,
   "metadata": {},
   "outputs": [],
   "source": []
  },
  {
   "cell_type": "code",
   "execution_count": 20,
   "metadata": {},
   "outputs": [],
   "source": [
    "from sklearn.model_selection import train_test_split\n",
    "X_train_human, X_test_human, y_train_human, y_test_human = train_test_split(X_human,y_human,test_size = 0.25,random_state=42)\n",
    "#splitting the data into train and split by ratio of 75% train and 25% test"
   ]
  },
  {
   "cell_type": "code",
   "execution_count": 21,
   "metadata": {},
   "outputs": [
    {
     "name": "stdout",
     "output_type": "stream",
     "text": [
      "Accuracy for human data using  DecisionTree Classifier :  0.7945205479452054\n"
     ]
    }
   ],
   "source": [
    "from sklearn.tree import DecisionTreeClassifier #importing the decisiontreeclassifier algorithm from sklearn\n",
    "dtree_human = DecisionTreeClassifier() \n",
    "dtree_human.fit(X_train_human,y_train_human)\n",
    "dtree_human_pred = dtree_human.predict(X_test_human) \n",
    "print(\"Accuracy for human data using  DecisionTree Classifier : \",accuracy_score(dtree_human_pred,y_test_human)) "
   ]
  },
  {
   "cell_type": "code",
   "execution_count": 22,
   "metadata": {},
   "outputs": [
    {
     "name": "stdout",
     "output_type": "stream",
     "text": [
      "Accuracy for human data using RandomForest Classifier :  0.9168949771689497\n"
     ]
    }
   ],
   "source": [
    "from sklearn.ensemble import RandomForestClassifier #importing the RandomForestclassifier algorithm from sklearn\n",
    "rf_human = RandomForestClassifier(n_estimators=400)\n",
    "rf_human.fit(X_train_human,y_train_human)\n",
    "rf_human_pred = rf_human.predict(X_test_human)\n",
    "print(\"Accuracy for human data using RandomForest Classifier : \",accuracy_score(rf_human_pred,y_test_human)) "
   ]
  },
  {
   "cell_type": "code",
   "execution_count": 23,
   "metadata": {},
   "outputs": [
    {
     "name": "stdout",
     "output_type": "stream",
     "text": [
      "Accuracy for human data using XGBoost Classifier :  0.7844748858447489\n"
     ]
    }
   ],
   "source": [
    "import xgboost as xgb #importing xgboost algorithm\n",
    "xgb_human = xgb.XGBClassifier()  \n",
    "xgb_human.fit(X_train_human,y_train_human) \n",
    "xgb_human_pred = xgb_human.predict(X_test_human)  \n",
    "print(\"Accuracy for human data using XGBoost Classifier : \",accuracy_score(xgb_human_pred,y_test_human))"
   ]
  },
  {
   "cell_type": "code",
   "execution_count": 24,
   "metadata": {},
   "outputs": [
    {
     "name": "stdout",
     "output_type": "stream",
     "text": [
      "Accuracy for human data using Naive Bayes Classifier :  0.9780821917808219\n"
     ]
    }
   ],
   "source": [
    "from sklearn.naive_bayes import MultinomialNB #importing the decisiontreeclassifier algorithm from sklearn\n",
    "NB_human = MultinomialNB(alpha=0.1) \n",
    "NB_human.fit(X_train_human,y_train_human) \n",
    "y_pred_human = NB_human.predict(X_test_human)  \n",
    "nb_accuracy_human = accuracy_score(y_pred_human,y_test_human)\n",
    "print(\"Accuracy for human data using Naive Bayes Classifier : \" ,nb_accuracy_human) "
   ]
  },
  {
   "cell_type": "code",
   "execution_count": 25,
   "metadata": {},
   "outputs": [
    {
     "data": {
      "text/plain": [
       "<matplotlib.axes._subplots.AxesSubplot at 0x20ab1314978>"
      ]
     },
     "execution_count": 25,
     "metadata": {},
     "output_type": "execute_result"
    },
    {
     "data": {
      "image/png": "[encoded data removed]",
      "text/plain": [
       "<Figure size 432x288 with 2 Axes>"
      ]
     },
     "metadata": {
      "needs_background": "light"
     },
     "output_type": "display_data"
    }
   ],
   "source": [
    "cm =confusion_matrix(y_pred_human,y_test_human)#plotting the confusion matrix\n",
    "sns.heatmap(cm, annot=True, xticklabels=labels, yticklabels=labels, fmt='g')"
   ]
  },
  {
   "cell_type": "code",
   "execution_count": 26,
   "metadata": {},
   "outputs": [
    {
     "name": "stdout",
     "output_type": "stream",
     "text": [
      "              precision    recall  f1-score   support\n",
      "\n",
      "           0       0.98      0.94      0.96       127\n",
      "           1       0.97      0.99      0.98       128\n",
      "           2       0.99      1.00      0.99        92\n",
      "           3       0.99      0.99      0.99       150\n",
      "           4       0.97      0.98      0.98       181\n",
      "           5       0.95      1.00      0.98        62\n",
      "           6       0.98      0.97      0.97       355\n",
      "\n",
      "   micro avg       0.98      0.98      0.98      1095\n",
      "   macro avg       0.98      0.98      0.98      1095\n",
      "weighted avg       0.98      0.98      0.98      1095\n",
      "\n"
     ]
    }
   ],
   "source": [
    "print(classification_report(y_pred_human,y_test_human))  \n",
    "#printing out the classification report which gives us \n",
    "# the f1 score , recall , precision and support"
   ]
  },
  {
   "cell_type": "markdown",
   "metadata": {},
   "source": [
    "# (b)- Chimpanzee Data"
   ]
  },
  {
   "cell_type": "code",
   "execution_count": 27,
   "metadata": {},
   "outputs": [],
   "source": [
    "chimp_data['words'] = chimp_data.apply(lambda x: getKmers(x['sequence']), axis=1) #applying getKmers\n",
    "chimp_data = chimp_data.drop('sequence', axis=1) "
   ]
  },
  {
   "cell_type": "code",
   "execution_count": 28,
   "metadata": {},
   "outputs": [],
   "source": [
    "chimp_texts = list(chimp_data['words']) #creating a list of words column in chimp_data\n",
    "for item in range(len(chimp_texts)): \n",
    "    chimp_texts[item] = ' '.join(chimp_texts[item]) "
   ]
  },
  {
   "cell_type": "code",
   "execution_count": 29,
   "metadata": {},
   "outputs": [
    {
     "data": {
      "text/plain": [
       "'atgaac tgaacg gaacga aacgaa acgaaa cgaaaa gaaaat aaaatc aaatct aatcta atctat tctatt ctattc tattcg attcgc ttcgct tcgctt cgcttc gcttca cttcat ttcatt tcattc cattcg attcgc ttcgct tcgctg cgctgc gctgcc ctgccc tgcccc gccccc ccccca ccccac cccaca ccacaa cacaat acaatc caatcc aatcct atccta tcctag cctagg ctaggc taggct aggctt ggctta gcttac cttacc ttaccc tacccg acccgc cccgcc ccgccg cgccgc gccgca ccgcag cgcagt gcagta cagtac agtact gtacta tactaa actaat ctaatc taatca aatcat atcatt tcattc cattct attcta ttctat tctatt ctattc tattcc attccc ttcccc tccccc cccccc ccccct cccctc ccctct cctcta ctctac tctact ctactg tactgg actggt ctggtc tggtcc ggtccc gtcccc tcccca ccccac cccact ccactt cacttc acttct cttcta ttctaa tctaaa ctaaac taaaca aaacat aacatc acatct catctc atctca tctcat ctcatc tcatca catcaa atcaac tcaaca caacaa aacaac acaacc caaccg aaccga accgac ccgact cgacta gactaa actaat ctaatt taatta aattac attacc ttacca taccac accacc ccaccc caccca acccaa cccaac ccaaca caacaa aacaat acaatg caatga aatgac atgact tgacta gactaa actaat ctaatt taattc aattca attcaa ttcaac tcaact caactg aactga actgac ctgacc tgacct gacctc acctca cctcaa ctcaaa tcaaaa caaaac aaaaca aaacaa aacaaa acaaat caaata aaataa aataat ataata taataa aataac ataact taacta aactat actata ctatac tataca atacac tacaca acacag cacagc acagca cagcac agcact gcacta cactaa actaaa ctaaag taaagg aaagga aaggac aggacg ggacga gacgaa acgaac cgaacc gaacct aacctg acctga cctgat ctgatc tgatct gatctc atctct tctctc ctctca tctcat ctcata tcatac catact atacta tactag actagt ctagta tagtat agtatc gtatcc tatcct atcctt tcctta ccttaa cttaat ttaatc taatca aatcat atcatt tcattt catttt attttt ttttta ttttat tttatt ttatta tattac attacc ttacca taccac accaca ccacaa cacaac acaacc caacca aaccaa accaat ccaatc caatct aatctt atcttc tcttct cttctt ttcttg tcttgg cttggg ttgggc tgggct gggctt ggcttc gcttct cttcta ttctac tctacc ctaccc tacccc acccca ccccac cccact ccactc cactca actcat ctcatt tcattc cattca attcac ttcaca tcacac cacacc acacca caccaa accaac ccaacc caacca aaccac accacc ccaccc caccca acccaa cccaac ccaact caacta aactat actatc ctatct tatcta atctat tctata ctataa tataaa ataaac taaacc aaacct aaccta acctag cctagc ctagcc tagcca agccat gccatg ccatgg catggc atggct tggcta ggctat gctatc ctatcc tatccc atcccc tccccc ccccct ccccta ccctat cctatg ctatga tatgag atgagc tgagca gagcag agcagg gcaggc caggcg aggcgc ggcgca gcgcag cgcagt gcagta cagtag agtagt gtagtc tagtca agtcat gtcata tcatag catagg ataggc taggct aggctt ggcttt gctttc ctttcg tttcgc ttcgct tcgctt cgcttt gcttta ctttaa tttaag ttaaga taagac aagact agacta gactaa actaaa ctaaaa taaaaa aaaaat aaaatg aaatgc aatgcc atgccc tgccct gcccta ccctag cctagc ctagcc tagccc agccca gcccac cccact ccactt cacttc acttct cttctt ttctta tcttac cttacc ttaccg taccgc accgca ccgcaa cgcaag gcaagg caaggc aaggca aggcac ggcaca gcacac cacacc acacct caccta acctac cctaca ctacac tacacc acaccc cacccc acccct cccctt ccctta ccttat cttatc ttatcc tatccc atcccc tcccca ccccat cccata ccatac catact atacta tactag actagt ctagtt tagtta agttat gttatc ttatca tatcat atcatc tcatcg catcga atcgaa tcgaaa cgaaac gaaact aaacta aactat actatt ctatta tattag attagc ttagcc tagcct agccta gcctac cctact ctactc tactca actcat ctcatt tcattc cattca attcaa ttcaac tcaacc caacca aaccaa accaat ccaata caatag aatagc atagcc tagcct agcctt gcctta ccttag cttagc ttagcc tagccg agccgt gccgta ccgtac cgtacg gtacgt tacgtc acgtct cgtcta gtctaa tctaac ctaacc taaccg aaccgc accgct ccgcta cgctaa gctaac ctaaca taacat aacatt acatta cattac attact ttactg tactgc actgca ctgcag tgcagg gcaggc caggcc aggcca ggccac gccacc ccacct caccta acctac cctact ctactc tactca actcat ctcatg tcatgc catgca atgcac tgcacc gcacct caccta acctaa cctaat ctaatt taattg aattgg attgga ttggaa tggaag ggaagc gaagcg aagcgc agcgcc gcgcca cgccac gccaca ccacac cacact acacta cactag actagc ctagca tagcat agcatt gcatta cattat attatc ttatca tatcaa atcaac tcaact caacta aactat actatc ctatca tatcaa atcaat tcaatc caatct aatcta atctac tctacc ctaccc taccct acccta ccctat cctatg ctatgc tatgca atgcac tgcact gcactc cactca actcat ctcatt tcatta cattat attatc ttatct tatctt atcttc tcttca cttcac ttcaca tcacaa cacaat acaatt caattc aattct attcta ttctaa tctaat ctaatc taatcc aatcct atccta tcctac cctact ctactg tactga actgac ctgact tgacta gactat actatt ctattc tattct attcta ttctag tctaga ctagag tagaga agagat gagatc agatcg gatcgc atcgcc tcgccg cgccgt gccgtc ccgtcg cgtcgc gtcgcc tcgcct cgcctt gcctta ccttaa cttaat ttaatc taatcc aatcca atccaa tccaag ccaagc caagcc aagcct agccta gcctac cctacg ctacgt tacgtt acgttt cgtttt gttttt ttttta ttttac tttaca ttacac tacact acactt cacttc acttct cttcta ttctag tctagt ctagtg tagtga agtgag gtgagc tgagcc gagcct agcctc gcctct cctcta ctctac tctacc ctacct tacctg acctgc cctgca ctgcac tgcacg gcacga cacgac acgaca cgacaa gacaac acaaca caacac aacaca acacat cacata acataa'"
      ]
     },
     "execution_count": 29,
     "metadata": {},
     "output_type": "execute_result"
    }
   ],
   "source": [
    "(chimp_texts[1])"
   ]
  },
  {
   "cell_type": "code",
   "execution_count": 30,
   "metadata": {},
   "outputs": [],
   "source": [
    "X_chimp = cv.transform(chimp_texts) \n",
    "y_chimp = chimp_data.iloc[:, 0].values  "
   ]
  },
  {
   "cell_type": "code",
   "execution_count": 31,
   "metadata": {},
   "outputs": [
    {
     "name": "stdout",
     "output_type": "stream",
     "text": [
      "(1682, 232414) (1682,)\n"
     ]
    }
   ],
   "source": [
    "print(X_chimp.shape,y_chimp.shape) "
   ]
  },
  {
   "cell_type": "code",
   "execution_count": 32,
   "metadata": {},
   "outputs": [],
   "source": [
    "from sklearn.model_selection import train_test_split\n",
    "X_train_chimp, X_test_chimp, y_train_chimp, y_test_chimp = train_test_split(X_chimp,y_chimp,test_size = 0.25,random_state=42)\n",
    "#splitting the data into train and split by ratio of 75% train and 25% test"
   ]
  },
  {
   "cell_type": "code",
   "execution_count": 33,
   "metadata": {},
   "outputs": [
    {
     "name": "stdout",
     "output_type": "stream",
     "text": [
      "Accuracy for Chimp data using  DecisionTree Classifier :  0.7648456057007126\n"
     ]
    }
   ],
   "source": [
    "from sklearn.tree import DecisionTreeClassifier\n",
    "dtree_chimp = DecisionTreeClassifier()\n",
    "dtree_chimp.fit(X_train_chimp,y_train_chimp)\n",
    "dtree_chimp_pred = dtree_chimp.predict(X_test_chimp)\n",
    "print(\"Accuracy for Chimp data using  DecisionTree Classifier : \",accuracy_score(dtree_chimp_pred,y_test_chimp))"
   ]
  },
  {
   "cell_type": "code",
   "execution_count": 34,
   "metadata": {},
   "outputs": [
    {
     "name": "stdout",
     "output_type": "stream",
     "text": [
      "Accuracy for Chimp data using Random Forest Classifier :  0.828978622327791\n"
     ]
    }
   ],
   "source": [
    "from sklearn.ensemble import RandomForestClassifier\n",
    "rf_chimp = RandomForestClassifier(n_estimators=400)\n",
    "rf_chimp.fit(X_train_chimp,y_train_chimp)\n",
    "rf_chimp_pred = rf_chimp.predict(X_test_chimp)\n",
    "print(\"Accuracy for Chimp data using Random Forest Classifier : \",accuracy_score(rf_chimp_pred,y_test_chimp))"
   ]
  },
  {
   "cell_type": "code",
   "execution_count": 35,
   "metadata": {},
   "outputs": [
    {
     "name": "stdout",
     "output_type": "stream",
     "text": [
      "Accuracy for Chimp data using XGBoost Classifier :  0.7862232779097387\n"
     ]
    }
   ],
   "source": [
    "import xgboost as xgb\n",
    "xgb_chimp = xgb.XGBClassifier()\n",
    "xgb_chimp.fit(X_train_chimp,y_train_chimp)\n",
    "xgb_chimp_pred = xgb_chimp.predict(X_test_chimp)\n",
    "print(\"Accuracy for Chimp data using XGBoost Classifier : \",accuracy_score(xgb_chimp_pred,y_test_chimp))"
   ]
  },
  {
   "cell_type": "code",
   "execution_count": 36,
   "metadata": {},
   "outputs": [
    {
     "name": "stdout",
     "output_type": "stream",
     "text": [
      "Accuracy for Chimp data using Naive Bayes Classifier :  0.8978622327790974\n"
     ]
    }
   ],
   "source": [
    "NB_chimp = MultinomialNB(alpha=0.1)\n",
    "NB_chimp.fit(X_train_chimp,y_train_chimp)\n",
    "y_pred_chimp = NB_chimp.predict(X_test_chimp)\n",
    "nb_accuracy_chimp = accuracy_score(y_pred_chimp,y_test_chimp)\n",
    "print(\"Accuracy for Chimp data using Naive Bayes Classifier : \" ,nb_accuracy_chimp)"
   ]
  },
  {
   "cell_type": "code",
   "execution_count": 37,
   "metadata": {},
   "outputs": [
    {
     "data": {
      "text/plain": [
       "<matplotlib.axes._subplots.AxesSubplot at 0x20acaff2518>"
      ]
     },
     "execution_count": 37,
     "metadata": {},
     "output_type": "execute_result"
    },
    {
     "data": {
      "image/png": "[encoded data removed]",
      "text/plain": [
       "<Figure size 432x288 with 2 Axes>"
      ]
     },
     "metadata": {
      "needs_background": "light"
     },
     "output_type": "display_data"
    }
   ],
   "source": [
    "\n",
    "cm =confusion_matrix(y_pred_chimp,y_test_chimp)\n",
    "sns.heatmap(cm, annot=True, xticklabels=labels, yticklabels=labels, fmt= \"g\")"
   ]
  },
  {
   "cell_type": "code",
   "execution_count": 38,
   "metadata": {},
   "outputs": [
    {
     "name": "stdout",
     "output_type": "stream",
     "text": [
      "              precision    recall  f1-score   support\n",
      "\n",
      "           0       0.95      0.88      0.91        48\n",
      "           1       0.98      0.98      0.98        51\n",
      "           2       0.93      1.00      0.97        28\n",
      "           3       0.93      0.93      0.93        54\n",
      "           4       0.73      0.98      0.84        50\n",
      "           5       0.55      1.00      0.71        18\n",
      "           6       0.99      0.82      0.90       172\n",
      "\n",
      "   micro avg       0.90      0.90      0.90       421\n",
      "   macro avg       0.87      0.94      0.89       421\n",
      "weighted avg       0.92      0.90      0.90       421\n",
      "\n"
     ]
    }
   ],
   "source": [
    "print(classification_report(y_pred_chimp,y_test_chimp))  \n",
    "#printing out the classification report which gives us  the f1 score , recall , precision and support"
   ]
  },
  {
   "cell_type": "code",
   "execution_count": 39,
   "metadata": {},
   "outputs": [],
   "source": [
    "\n",
    "#this code makes pickle file\n",
    "import pickle\n",
    "filename = 'human_data_NB1.pkl'\n",
    "model_pkl = open(filename, 'wb') \n",
    "pickle.dump(NB_human, model_pkl)\n",
    "# Close the pickle instances\n",
    "model_pkl.close()\n",
    "\n",
    "filename = 'chimp_data_NB1.pkl'\n",
    "model_pkl = open(filename, 'wb') \n",
    "pickle.dump(NB_chimp, model_pkl)\n",
    "# Close the pickle instances\n",
    "model_pkl.close() \n"
   ]
  },
  {
   "cell_type": "code",
   "execution_count": null,
   "metadata": {},
   "outputs": [],
   "source": []
  },
  {
   "cell_type": "code",
   "execution_count": null,
   "metadata": {},
   "outputs": [],
   "source": [
    "import pickle\n",
    "human_pkl=open('human_data_NB1.pkl','rb') #opening our pickle file of model in \"rb\" i.e. \"rb\" mode opens the file in binary format for reading.\n",
    "humanmodel = pickle.load(human_pkl) #loading the pickle file\n",
    "\n",
    "import pickle\n",
    "chimp_pkl=open('chimp_data_NB1.pkl','rb') #opening our pickle file of model in \"rb\" i.e. \"rb\" mode opens the file in binary format for reading.\n",
    "chimpmodel = pickle.load(chimp_pkl)  #loading the pickle file"
   ]
  },
  {
   "cell_type": "code",
   "execution_count": null,
   "metadata": {},
   "outputs": [],
   "source": []
  },
  {
   "cell_type": "markdown",
   "metadata": {},
   "source": [
    "# CONCLUSION - \n",
    "Seven different types of proteins which are common in both human and chimps  have been classfied using machine \n",
    "learning algorithms like RandomForest , DecisionTree , XGBoost and Multinomial classification Algorithms. we obtained the maximum accuracy with Multinomial Naive bayes classifier on both human and chimp dataset with around 97.8 % and 89.7% respectively. we found out that Naive Bayes algorithm is most suitable for working with sequence data out of other three algorithms."
   ]
  },
  {
   "cell_type": "code",
   "execution_count": null,
   "metadata": {},
   "outputs": [],
   "source": []
  },
  {
   "cell_type": "code",
   "execution_count": null,
   "metadata": {},
   "outputs": [],
   "source": []
  }
 ],
 "metadata": {
  "kernelspec": {
   "display_name": "Python 3",
   "language": "python",
   "name": "python3"
  },
  "language_info": {
   "codemirror_mode": {
    "name": "ipython",
    "version": 3
   },
   "file_extension": ".py",
   "mimetype": "text/x-python",
   "name": "python",
   "nbconvert_exporter": "python",
   "pygments_lexer": "ipython3",
   "version": "3.8.8"
  }
 },
 "nbformat": 4,
 "nbformat_minor": 2
}
